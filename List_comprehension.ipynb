{
  "nbformat": 4,
  "nbformat_minor": 0,
  "metadata": {
    "colab": {
      "provenance": [],
      "authorship_tag": "ABX9TyPhzAqZ98PaBmGF1X6GrhtC",
      "include_colab_link": true
    },
    "kernelspec": {
      "name": "python3",
      "display_name": "Python 3"
    },
    "language_info": {
      "name": "python"
    }
  },
  "cells": [
    {
      "cell_type": "markdown",
      "metadata": {
        "id": "view-in-github",
        "colab_type": "text"
      },
      "source": [
        "<a href=\"https://colab.research.google.com/github/BhagyashriAhirwar57/pratice/blob/main/List_comprehension.ipynb\" target=\"_parent\"><img src=\"https://colab.research.google.com/assets/colab-badge.svg\" alt=\"Open In Colab\"/></a>"
      ]
    },
    {
      "cell_type": "code",
      "execution_count": null,
      "metadata": {
        "colab": {
          "base_uri": "https://localhost:8080/"
        },
        "id": "UZfBuGUptiO8",
        "outputId": "57399098-4d05-478c-d18d-0d8bacc4b8e0"
      },
      "outputs": [
        {
          "output_type": "execute_result",
          "data": {
            "text/plain": [
              "[0, 1, 4, 9, 16, 25, 36, 49, 64, 81]"
            ]
          },
          "metadata": {},
          "execution_count": 2
        }
      ],
      "source": [
        "#list comprehension\n",
        "squares = []\n",
        "for i in range(10):\n",
        "  squares.append(i**2)\n",
        "\n",
        "squares"
      ]
    },
    {
      "cell_type": "code",
      "source": [
        "#modifying the code\n",
        "#[operation iterable condition]\n",
        "#iterable,condition,operation\n",
        "\n",
        "newList = [i**2 for i in range(10)]\n",
        "newList"
      ],
      "metadata": {
        "colab": {
          "base_uri": "https://localhost:8080/"
        },
        "id": "Bu1qDFXMuTLe",
        "outputId": "877d6b42-195e-474c-9f01-9e722a854701"
      },
      "execution_count": null,
      "outputs": [
        {
          "output_type": "execute_result",
          "data": {
            "text/plain": [
              "[0, 1, 4, 9, 16, 25, 36, 49, 64, 81]"
            ]
          },
          "metadata": {},
          "execution_count": 3
        }
      ]
    },
    {
      "cell_type": "code",
      "source": [
        "#nested list comprehension\n",
        "matrix = [\n",
        "    [10,20,30,40],\n",
        "    [50,60,70,80],\n",
        "    [90,100,110,120]\n",
        "]\n",
        "\n",
        "[[ row[i] for row in matrix] for i in range(4)]"
      ],
      "metadata": {
        "colab": {
          "base_uri": "https://localhost:8080/"
        },
        "id": "jFaMciFnvrN7",
        "outputId": "7576d3c4-b17e-4746-d6dd-3336c101f873"
      },
      "execution_count": null,
      "outputs": [
        {
          "output_type": "execute_result",
          "data": {
            "text/plain": [
              "[[10, 50, 90], [20, 60, 100], [30, 70, 110], [40, 80, 120]]"
            ]
          },
          "metadata": {},
          "execution_count": 5
        }
      ]
    },
    {
      "cell_type": "code",
      "source": [
        "#delete statements\n",
        "list = ['ross','chandler','monica']\n",
        "del list[2]\n",
        "list"
      ],
      "metadata": {
        "colab": {
          "base_uri": "https://localhost:8080/"
        },
        "id": "0zw7EZ7Lwnzl",
        "outputId": "1118310e-3dff-492e-a6ae-f1ac0b3de2b6"
      },
      "execution_count": null,
      "outputs": [
        {
          "output_type": "execute_result",
          "data": {
            "text/plain": [
              "['ross', 'chandler']"
            ]
          },
          "metadata": {},
          "execution_count": 7
        }
      ]
    },
    {
      "cell_type": "markdown",
      "source": [
        "Tuples and Sequences"
      ],
      "metadata": {
        "id": "lEwBx6Epw5Rq"
      }
    },
    {
      "cell_type": "code",
      "source": [
        "#tuple is unmutable-using round ()\n",
        "#mainly used for collection of constants\n",
        "\n",
        "t = ('ross','chandler','monica')\n",
        "t"
      ],
      "metadata": {
        "colab": {
          "base_uri": "https://localhost:8080/"
        },
        "id": "qXMw40A6w4qA",
        "outputId": "9af487dd-4c1f-4129-8fbc-50bcb1935fcb"
      },
      "execution_count": null,
      "outputs": [
        {
          "output_type": "execute_result",
          "data": {
            "text/plain": [
              "('ross', 'chandler', 'monica')"
            ]
          },
          "metadata": {},
          "execution_count": 9
        }
      ]
    },
    {
      "cell_type": "code",
      "source": [
        "t[1] = \"rachel\"\n",
        "t"
      ],
      "metadata": {
        "colab": {
          "base_uri": "https://localhost:8080/",
          "height": 183
        },
        "id": "1v78CPuvxQp5",
        "outputId": "6022663d-b57d-4586-ac91-a67e87f8846e"
      },
      "execution_count": null,
      "outputs": [
        {
          "output_type": "error",
          "ename": "TypeError",
          "evalue": "ignored",
          "traceback": [
            "\u001b[0;31m---------------------------------------------------------------------------\u001b[0m",
            "\u001b[0;31mTypeError\u001b[0m                                 Traceback (most recent call last)",
            "\u001b[0;32m<ipython-input-10-eb297f883d2c>\u001b[0m in \u001b[0;36m<module>\u001b[0;34m\u001b[0m\n\u001b[0;32m----> 1\u001b[0;31m \u001b[0mt\u001b[0m\u001b[0;34m[\u001b[0m\u001b[0;36m1\u001b[0m\u001b[0;34m]\u001b[0m \u001b[0;34m=\u001b[0m \u001b[0;34m\"rachel\"\u001b[0m\u001b[0;34m\u001b[0m\u001b[0;34m\u001b[0m\u001b[0m\n\u001b[0m\u001b[1;32m      2\u001b[0m \u001b[0mt\u001b[0m\u001b[0;34m\u001b[0m\u001b[0;34m\u001b[0m\u001b[0m\n",
            "\u001b[0;31mTypeError\u001b[0m: 'tuple' object does not support item assignment"
          ]
        }
      ]
    },
    {
      "cell_type": "code",
      "source": [
        "#supports multiple item assignments\n",
        "name,age,grade = ('bhagyashri', 20, 'A')\n",
        "print(\"Name: \", name,\"Age: \",age,\"Grade : \", grade)"
      ],
      "metadata": {
        "colab": {
          "base_uri": "https://localhost:8080/"
        },
        "id": "AItNVqdvxXyY",
        "outputId": "bdc0e600-4ea1-4823-b17d-ea2c17807cac"
      },
      "execution_count": null,
      "outputs": [
        {
          "output_type": "stream",
          "name": "stdout",
          "text": [
            "Name:  bhagyashri Age:  20 Grade :  A\n"
          ]
        }
      ]
    },
    {
      "cell_type": "markdown",
      "source": [
        "Sets-unordered collection which doesn't have duplicates"
      ],
      "metadata": {
        "id": "QR-hvhT8yH6h"
      }
    },
    {
      "cell_type": "code",
      "source": [
        "#use is to eliminate duplicates\n",
        "#uses curly braces\n",
        "s= {\"rosss\",\"chandler\",\"monica\",\"rosss\"}\n",
        "s\n",
        "#arranges in alphanumeric order"
      ],
      "metadata": {
        "colab": {
          "base_uri": "https://localhost:8080/"
        },
        "id": "xm4kzwixyM_k",
        "outputId": "c37632dd-d919-48e1-b3ac-0d56d8ac4058"
      },
      "execution_count": null,
      "outputs": [
        {
          "output_type": "execute_result",
          "data": {
            "text/plain": [
              "{'chandler', 'monica', 'rosss'}"
            ]
          },
          "metadata": {},
          "execution_count": 12
        }
      ]
    },
    {
      "cell_type": "code",
      "source": [
        "#comprehended sets\n",
        "comprehendSet= {i*10 for i in range(10) if (i%2) == 0}\n",
        "comprehendSet"
      ],
      "metadata": {
        "colab": {
          "base_uri": "https://localhost:8080/"
        },
        "id": "Mhtmzrhtyeqg",
        "outputId": "0753dcd3-15b7-4585-bb42-e76ac368507f"
      },
      "execution_count": null,
      "outputs": [
        {
          "output_type": "execute_result",
          "data": {
            "text/plain": [
              "{0, 20, 40, 60, 80}"
            ]
          },
          "metadata": {},
          "execution_count": 13
        }
      ]
    },
    {
      "cell_type": "markdown",
      "source": [
        "Dictionaries\n",
        "bigO is 1"
      ],
      "metadata": {
        "id": "5BBOULIJyfi2"
      }
    },
    {
      "cell_type": "code",
      "source": [
        "#{\"key\":\"value\"}\n",
        "thisdict = {\n",
        "  \"brand\": \"Ford\",\n",
        "  \"model\": \"Mustang\",\n",
        "  \"year\": 1964\n",
        "}\n",
        "print(thisdict[\"brand\"])"
      ],
      "metadata": {
        "colab": {
          "base_uri": "https://localhost:8080/"
        },
        "id": "nmk-cP3gzLNi",
        "outputId": "ec8b1619-e194-4b5f-fcb7-39504162d7ec"
      },
      "execution_count": null,
      "outputs": [
        {
          "output_type": "stream",
          "name": "stdout",
          "text": [
            "Ford\n"
          ]
        }
      ]
    },
    {
      "cell_type": "code",
      "source": [
        "#loops on dictionaries\n",
        "for index,value in thisdict.items():\n",
        "  print(\"Index is\", index, \"and Value is \", value)"
      ],
      "metadata": {
        "colab": {
          "base_uri": "https://localhost:8080/"
        },
        "id": "dEQHf-4L05Yh",
        "outputId": "70dfe895-463e-408d-8346-bec7cfd48d64"
      },
      "execution_count": null,
      "outputs": [
        {
          "output_type": "stream",
          "name": "stdout",
          "text": [
            "Index is brand and Value is  Ford\n",
            "Index is model and Value is  Mustang\n",
            "Index is year and Value is  1964\n"
          ]
        }
      ]
    },
    {
      "cell_type": "code",
      "source": [
        "#enumrate fun helps to return index and value associated to it\n",
        "myList = [10,20,30,40,50]\n",
        "for index,value in enumerate(myList):\n",
        "  print(index, value)"
      ],
      "metadata": {
        "colab": {
          "base_uri": "https://localhost:8080/"
        },
        "id": "p0Ml7vSY1OVo",
        "outputId": "85b30586-1443-4f36-bd27-3f928f4048c7"
      },
      "execution_count": null,
      "outputs": [
        {
          "output_type": "stream",
          "name": "stdout",
          "text": [
            "0 10\n",
            "1 20\n",
            "2 30\n",
            "3 40\n",
            "4 50\n"
          ]
        }
      ]
    },
    {
      "cell_type": "code",
      "source": [
        "actors = [\"salman\",\"ranverr\",\"shahid\"]\n",
        "actress = [\"katrina\",\"deepika\", \"kareena\"]\n",
        "\n",
        "for actor,actress in zip(actors,actress):\n",
        "  print(\"The opposite actress of \",actor, \"is\", actress)\n"
      ],
      "metadata": {
        "colab": {
          "base_uri": "https://localhost:8080/"
        },
        "id": "C2ygeVjA1giU",
        "outputId": "a42b8e52-e8cf-4ac5-a46a-7ddc1285ccdf"
      },
      "execution_count": null,
      "outputs": [
        {
          "output_type": "stream",
          "name": "stdout",
          "text": [
            "The opposite actress of  salman is katrina\n",
            "The opposite actress of  ranverr is deepika\n",
            "The opposite actress of  shahid is kareena\n"
          ]
        }
      ]
    },
    {
      "cell_type": "code",
      "source": [
        "#printing in reverse order\n",
        "for actors in reversed(actors):\n",
        "  print(actors)"
      ],
      "metadata": {
        "colab": {
          "base_uri": "https://localhost:8080/"
        },
        "id": "PfWpuxYr16d9",
        "outputId": "b3569708-f7fc-4b2f-a55d-55611f4088bc"
      },
      "execution_count": null,
      "outputs": [
        {
          "output_type": "stream",
          "name": "stdout",
          "text": [
            "shahid\n",
            "ranverr\n",
            "salman\n"
          ]
        }
      ]
    },
    {
      "cell_type": "code",
      "source": [
        "#comparing sequence\n"
      ],
      "metadata": {
        "id": "MxtfxlU52MXs"
      },
      "execution_count": null,
      "outputs": []
    },
    {
      "cell_type": "code",
      "source": [
        "import notebooks_fibonacci"
      ],
      "metadata": {
        "id": "L1GtuYCw-aqJ"
      },
      "execution_count": 4,
      "outputs": []
    },
    {
      "cell_type": "code",
      "source": [
        "fibonacci.fib(11)"
      ],
      "metadata": {
        "colab": {
          "base_uri": "https://localhost:8080/",
          "height": 165
        },
        "id": "pnoi2SeJ-jtN",
        "outputId": "e0144748-f7b1-49f0-df14-518cf5b575fb"
      },
      "execution_count": 5,
      "outputs": [
        {
          "output_type": "error",
          "ename": "NameError",
          "evalue": "ignored",
          "traceback": [
            "\u001b[0;31m---------------------------------------------------------------------------\u001b[0m",
            "\u001b[0;31mNameError\u001b[0m                                 Traceback (most recent call last)",
            "\u001b[0;32m<ipython-input-5-2c0b91830e3c>\u001b[0m in \u001b[0;36m<module>\u001b[0;34m\u001b[0m\n\u001b[0;32m----> 1\u001b[0;31m \u001b[0mfibonacci\u001b[0m\u001b[0;34m.\u001b[0m\u001b[0mfib\u001b[0m\u001b[0;34m(\u001b[0m\u001b[0;36m11\u001b[0m\u001b[0;34m)\u001b[0m\u001b[0;34m\u001b[0m\u001b[0;34m\u001b[0m\u001b[0m\n\u001b[0m",
            "\u001b[0;31mNameError\u001b[0m: name 'fibonacci' is not defined"
          ]
        }
      ]
    }
  ]
}