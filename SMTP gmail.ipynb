{
 "cells": [
  {
   "cell_type": "code",
   "execution_count": 4,
   "id": "d16e7464",
   "metadata": {},
   "outputs": [],
   "source": [
    "import smtplib\n",
    "from email.mime.multipart import MIMEMultipart\n",
    "from email.mime.text import MIMEText\n",
    "from email.mime.base import MIMEBase\n",
    "from email import encoders\n"
   ]
  },
  {
   "cell_type": "code",
   "execution_count": 5,
   "id": "9513742e",
   "metadata": {},
   "outputs": [],
   "source": [
    "def send_mail(event_name, event_start, email):\n",
    "    email_content = \"\"\"<p>Dear Sir/Madam </p>\n",
    "    <p>I am writing on behalf of my organization,\n",
    "    IPS Academy. I got yo knnow about your event .\n",
    "    I am eager to know more about it</p>\n",
    "    <p>Regards\n",
    "    Bhagyashri\n",
    "    </p>\n",
    "    \n",
    "    \n",
    "    \"\"\"\n",
    "    \n",
    "    #The mail addresses and password of the sender\n",
    "    sender_address = 'bhagyashriahirwar1847@gmail.com'\n",
    "    sender_password = 'ahiwar1847'\n",
    "    receiver_address = 'bhagyashreeahirwar57'\n",
    "    \n",
    "    #Setup the MIME\n",
    "    message = MIMEMultipart()\n",
    "    message['From'] = 'bhagyashriahirwar1847@gmail.com'\n",
    "    message['To'] = receiver_address\n",
    "    message['Subject'] = \"Information required about\" \n",
    "    \n",
    "    message.attach(MIMETest(email_content,\"pdf\"))\n",
    "\n",
    "    attach_file_name = 'C:/Users/OM/Downloads/SMTP-attach.pdf'\n",
    "    attach_file = open(attach_file_name, 'rb') # Open the file as binary mode\n",
    "    \n",
    "    payload = MIMEBase('application', 'octate-stream')\n",
    "    payload.set_payload((attach_file).read())\n",
    "\n",
    "    #encode the attachment add payload header with filename\n",
    "    encoders.encode_base64(payload)\n",
    "    \n",
    "    payload.add_header('Content-Disposition', 'attachment', filename='C:/Users/OM/Downloads/SMTP-attach.pdf')\n",
    "    message.attach(payload)\n",
    "\n",
    "\n",
    "    #Creating SMTP session for sending email\n",
    "    #587 is port\n",
    "    session = smtplib.SMTP('smtp.gmail.com', 587) \n",
    "    #for security feature\n",
    "    session.starttls() \n",
    "    #login\n",
    "    session.login(sender_address, sender_password) \n",
    "    text = message.as_string()\n",
    "    session.sendmail(sender_address, receiver_address, text)\n",
    "    session.quit()\n",
    "    print('Mail Sent')\n",
    "    print(\"Process complete\")"
   ]
  },
  {
   "cell_type": "code",
   "execution_count": null,
   "id": "d6444779",
   "metadata": {},
   "outputs": [],
   "source": []
  }
 ],
 "metadata": {
  "kernelspec": {
   "display_name": "Python 3 (ipykernel)",
   "language": "python",
   "name": "python3"
  },
  "language_info": {
   "codemirror_mode": {
    "name": "ipython",
    "version": 3
   },
   "file_extension": ".py",
   "mimetype": "text/x-python",
   "name": "python",
   "nbconvert_exporter": "python",
   "pygments_lexer": "ipython3",
   "version": "3.10.9"
  }
 },
 "nbformat": 4,
 "nbformat_minor": 5
}
