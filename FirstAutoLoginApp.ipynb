{
 "cells": [
  {
   "cell_type": "code",
   "execution_count": 90,
   "id": "1d5a1595",
   "metadata": {},
   "outputs": [],
   "source": [
    "from selenium import webdriver"
   ]
  },
  {
   "cell_type": "code",
   "execution_count": 91,
   "id": "332da9fa",
   "metadata": {},
   "outputs": [],
   "source": [
    "#creating a connection with the browser\n",
    "browser = webdriver.Chrome(\"C:/Users/Public/chromedriver.exe\")\n",
    "\n",
    "#maximize th ebrowser window\n",
    "browser.maximize_window()\n",
    "\n",
    "#open the website\n",
    "browser.get(\"https://www.udemy.com/join/login-popup/\")"
   ]
  },
  {
   "cell_type": "code",
   "execution_count": 92,
   "id": "f2f891e3",
   "metadata": {
    "scrolled": true
   },
   "outputs": [
    {
     "data": {
      "text/plain": [
       "<selenium.webdriver.remote.webelement.WebElement (session=\"0c77ef8c175cda0f6c6eb7a048bf3c32\", element=\"e6541964-25b3-4fd8-aaf1-79b4805258c5\")>"
      ]
     },
     "execution_count": 92,
     "metadata": {},
     "output_type": "execute_result"
    }
   ],
   "source": [
    "username = browser.find_element_by_id(\"form-group--1\")\n",
    "username"
   ]
  },
  {
   "cell_type": "code",
   "execution_count": 93,
   "id": "138fd98f",
   "metadata": {},
   "outputs": [],
   "source": [
    "username.send_keys(\"0808cs201052.ies@ipsacademy.org\")"
   ]
  },
  {
   "cell_type": "code",
   "execution_count": 94,
   "id": "79d23d48",
   "metadata": {},
   "outputs": [
    {
     "data": {
      "text/plain": [
       "<selenium.webdriver.remote.webelement.WebElement (session=\"0c77ef8c175cda0f6c6eb7a048bf3c32\", element=\"e0907dd5-a7f0-4e2f-85c9-9943b5265bb9\")>"
      ]
     },
     "execution_count": 94,
     "metadata": {},
     "output_type": "execute_result"
    }
   ],
   "source": [
    "password = browser.find_element_by_id(\"form-group--3\")\n",
    "password"
   ]
  },
  {
   "cell_type": "code",
   "execution_count": 95,
   "id": "2358f903",
   "metadata": {},
   "outputs": [],
   "source": [
    "password.send_keys(\"class@57\")"
   ]
  },
  {
   "cell_type": "code",
   "execution_count": 96,
   "id": "97a2344d",
   "metadata": {},
   "outputs": [],
   "source": [
    "#button = browser.find_element_by_id(\"class='ud-btn ud-btn-large ud-btn-brand ud-heading-md helpers--auth-submit-button--2K2dh'\")\n",
    "#button= browser.getElementsBybutton('ud-btn ud-btn-large ud-btn-brand ud-heading-md helpers--auth-submit-button--2K2dh')\n",
    "#button\n",
    "#button = browser.find_element('ud-btn ud-btn-large ud-btn-brand ud-heading-md helpers--auth-submit-button--2K2dh')\n",
    "#button = browser.find_element_by_class_name('ud-btn ud-btn-large ud-btn-brand ud-heading-md helpers--auth-submit-button--2K2dh')\n",
    "#udemy > div.ud-main-content-wrapper > div.ud-main-content > div > div > form > button\n",
    "\n",
    "button = browser.find_element_by_xpath('/html/body/div[1]/div[2]/div/div/form/button')"
   ]
  },
  {
   "cell_type": "code",
   "execution_count": 97,
   "id": "f40cd19c",
   "metadata": {},
   "outputs": [],
   "source": [
    "button.click()"
   ]
  },
  {
   "cell_type": "raw",
   "id": "dcadccef",
   "metadata": {},
   "source": []
  }
 ],
 "metadata": {
  "kernelspec": {
   "display_name": "Python 3 (ipykernel)",
   "language": "python",
   "name": "python3"
  },
  "language_info": {
   "codemirror_mode": {
    "name": "ipython",
    "version": 3
   },
   "file_extension": ".py",
   "mimetype": "text/x-python",
   "name": "python",
   "nbconvert_exporter": "python",
   "pygments_lexer": "ipython3",
   "version": "3.10.9"
  }
 },
 "nbformat": 4,
 "nbformat_minor": 5
}
