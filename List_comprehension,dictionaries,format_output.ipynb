{
  "nbformat": 4,
  "nbformat_minor": 0,
  "metadata": {
    "colab": {
      "provenance": [],
      "authorship_tag": "ABX9TyNM52GlHXcDbcOjSoLnHfhT",
      "include_colab_link": true
    },
    "kernelspec": {
      "name": "python3",
      "display_name": "Python 3"
    },
    "language_info": {
      "name": "python"
    }
  },
  "cells": [
    {
      "cell_type": "markdown",
      "metadata": {
        "id": "view-in-github",
        "colab_type": "text"
      },
      "source": [
        "<a href=\"https://colab.research.google.com/github/BhagyashriAhirwar57/pratice/blob/main/List_comprehension%2Cdictionaries%2Cformat_output.ipynb\" target=\"_parent\"><img src=\"https://colab.research.google.com/assets/colab-badge.svg\" alt=\"Open In Colab\"/></a>"
      ]
    },
    {
      "cell_type": "code",
      "execution_count": null,
      "metadata": {
        "colab": {
          "base_uri": "https://localhost:8080/"
        },
        "id": "UZfBuGUptiO8",
        "outputId": "57399098-4d05-478c-d18d-0d8bacc4b8e0"
      },
      "outputs": [
        {
          "output_type": "execute_result",
          "data": {
            "text/plain": [
              "[0, 1, 4, 9, 16, 25, 36, 49, 64, 81]"
            ]
          },
          "metadata": {},
          "execution_count": 2
        }
      ],
      "source": [
        "#list comprehension\n",
        "squares = []\n",
        "for i in range(10):\n",
        "  squares.append(i**2)\n",
        "\n",
        "squares"
      ]
    },
    {
      "cell_type": "code",
      "source": [
        "#modifying the code\n",
        "#[operation iterable condition]\n",
        "#iterable,condition,operation\n",
        "\n",
        "newList = [i**2 for i in range(10)]\n",
        "newList"
      ],
      "metadata": {
        "colab": {
          "base_uri": "https://localhost:8080/"
        },
        "id": "Bu1qDFXMuTLe",
        "outputId": "877d6b42-195e-474c-9f01-9e722a854701"
      },
      "execution_count": null,
      "outputs": [
        {
          "output_type": "execute_result",
          "data": {
            "text/plain": [
              "[0, 1, 4, 9, 16, 25, 36, 49, 64, 81]"
            ]
          },
          "metadata": {},
          "execution_count": 3
        }
      ]
    },
    {
      "cell_type": "code",
      "source": [
        "#nested list comprehension\n",
        "matrix = [\n",
        "    [10,20,30,40],\n",
        "    [50,60,70,80],\n",
        "    [90,100,110,120]\n",
        "]\n",
        "\n",
        "[[ row[i] for row in matrix] for i in range(4)]"
      ],
      "metadata": {
        "colab": {
          "base_uri": "https://localhost:8080/"
        },
        "id": "jFaMciFnvrN7",
        "outputId": "7576d3c4-b17e-4746-d6dd-3336c101f873"
      },
      "execution_count": null,
      "outputs": [
        {
          "output_type": "execute_result",
          "data": {
            "text/plain": [
              "[[10, 50, 90], [20, 60, 100], [30, 70, 110], [40, 80, 120]]"
            ]
          },
          "metadata": {},
          "execution_count": 5
        }
      ]
    },
    {
      "cell_type": "code",
      "source": [
        "#delete statements\n",
        "list = ['ross','chandler','monica']\n",
        "del list[2]\n",
        "list"
      ],
      "metadata": {
        "colab": {
          "base_uri": "https://localhost:8080/"
        },
        "id": "0zw7EZ7Lwnzl",
        "outputId": "1118310e-3dff-492e-a6ae-f1ac0b3de2b6"
      },
      "execution_count": null,
      "outputs": [
        {
          "output_type": "execute_result",
          "data": {
            "text/plain": [
              "['ross', 'chandler']"
            ]
          },
          "metadata": {},
          "execution_count": 7
        }
      ]
    },
    {
      "cell_type": "markdown",
      "source": [
        "Tuples and Sequences"
      ],
      "metadata": {
        "id": "lEwBx6Epw5Rq"
      }
    },
    {
      "cell_type": "code",
      "source": [
        "#tuple is unmutable-using round ()\n",
        "#mainly used for collection of constants\n",
        "\n",
        "t = ('ross','chandler','monica')\n",
        "t"
      ],
      "metadata": {
        "colab": {
          "base_uri": "https://localhost:8080/"
        },
        "id": "qXMw40A6w4qA",
        "outputId": "9af487dd-4c1f-4129-8fbc-50bcb1935fcb"
      },
      "execution_count": null,
      "outputs": [
        {
          "output_type": "execute_result",
          "data": {
            "text/plain": [
              "('ross', 'chandler', 'monica')"
            ]
          },
          "metadata": {},
          "execution_count": 9
        }
      ]
    },
    {
      "cell_type": "code",
      "source": [
        "t[1] = \"rachel\"\n",
        "t"
      ],
      "metadata": {
        "colab": {
          "base_uri": "https://localhost:8080/",
          "height": 183
        },
        "id": "1v78CPuvxQp5",
        "outputId": "6022663d-b57d-4586-ac91-a67e87f8846e"
      },
      "execution_count": null,
      "outputs": [
        {
          "output_type": "error",
          "ename": "TypeError",
          "evalue": "ignored",
          "traceback": [
            "\u001b[0;31m---------------------------------------------------------------------------\u001b[0m",
            "\u001b[0;31mTypeError\u001b[0m                                 Traceback (most recent call last)",
            "\u001b[0;32m<ipython-input-10-eb297f883d2c>\u001b[0m in \u001b[0;36m<module>\u001b[0;34m\u001b[0m\n\u001b[0;32m----> 1\u001b[0;31m \u001b[0mt\u001b[0m\u001b[0;34m[\u001b[0m\u001b[0;36m1\u001b[0m\u001b[0;34m]\u001b[0m \u001b[0;34m=\u001b[0m \u001b[0;34m\"rachel\"\u001b[0m\u001b[0;34m\u001b[0m\u001b[0;34m\u001b[0m\u001b[0m\n\u001b[0m\u001b[1;32m      2\u001b[0m \u001b[0mt\u001b[0m\u001b[0;34m\u001b[0m\u001b[0;34m\u001b[0m\u001b[0m\n",
            "\u001b[0;31mTypeError\u001b[0m: 'tuple' object does not support item assignment"
          ]
        }
      ]
    },
    {
      "cell_type": "code",
      "source": [
        "#supports multiple item assignments\n",
        "name,age,grade = ('bhagyashri', 20, 'A')\n",
        "print(\"Name: \", name,\"Age: \",age,\"Grade : \", grade)"
      ],
      "metadata": {
        "colab": {
          "base_uri": "https://localhost:8080/"
        },
        "id": "AItNVqdvxXyY",
        "outputId": "bdc0e600-4ea1-4823-b17d-ea2c17807cac"
      },
      "execution_count": null,
      "outputs": [
        {
          "output_type": "stream",
          "name": "stdout",
          "text": [
            "Name:  bhagyashri Age:  20 Grade :  A\n"
          ]
        }
      ]
    },
    {
      "cell_type": "markdown",
      "source": [
        "Sets-unordered collection which doesn't have duplicates"
      ],
      "metadata": {
        "id": "QR-hvhT8yH6h"
      }
    },
    {
      "cell_type": "code",
      "source": [
        "#use is to eliminate duplicates\n",
        "#uses curly braces\n",
        "s= {\"rosss\",\"chandler\",\"monica\",\"rosss\"}\n",
        "s\n",
        "#arranges in alphanumeric order"
      ],
      "metadata": {
        "colab": {
          "base_uri": "https://localhost:8080/"
        },
        "id": "xm4kzwixyM_k",
        "outputId": "c37632dd-d919-48e1-b3ac-0d56d8ac4058"
      },
      "execution_count": null,
      "outputs": [
        {
          "output_type": "execute_result",
          "data": {
            "text/plain": [
              "{'chandler', 'monica', 'rosss'}"
            ]
          },
          "metadata": {},
          "execution_count": 12
        }
      ]
    },
    {
      "cell_type": "code",
      "source": [
        "#comprehended sets\n",
        "comprehendSet= {i*10 for i in range(10) if (i%2) == 0}\n",
        "comprehendSet"
      ],
      "metadata": {
        "colab": {
          "base_uri": "https://localhost:8080/"
        },
        "id": "Mhtmzrhtyeqg",
        "outputId": "0753dcd3-15b7-4585-bb42-e76ac368507f"
      },
      "execution_count": null,
      "outputs": [
        {
          "output_type": "execute_result",
          "data": {
            "text/plain": [
              "{0, 20, 40, 60, 80}"
            ]
          },
          "metadata": {},
          "execution_count": 13
        }
      ]
    },
    {
      "cell_type": "markdown",
      "source": [
        "Dictionaries\n",
        "bigO is 1"
      ],
      "metadata": {
        "id": "5BBOULIJyfi2"
      }
    },
    {
      "cell_type": "code",
      "source": [
        "#{\"key\":\"value\"}\n",
        "thisdict = {\n",
        "  \"brand\": \"Ford\",\n",
        "  \"model\": \"Mustang\",\n",
        "  \"year\": 1964\n",
        "}\n",
        "print(thisdict[\"brand\"])"
      ],
      "metadata": {
        "colab": {
          "base_uri": "https://localhost:8080/"
        },
        "id": "nmk-cP3gzLNi",
        "outputId": "ec8b1619-e194-4b5f-fcb7-39504162d7ec"
      },
      "execution_count": null,
      "outputs": [
        {
          "output_type": "stream",
          "name": "stdout",
          "text": [
            "Ford\n"
          ]
        }
      ]
    },
    {
      "cell_type": "code",
      "source": [
        "#loops on dictionaries\n",
        "for index,value in thisdict.items():\n",
        "  print(\"Index is\", index, \"and Value is \", value)"
      ],
      "metadata": {
        "colab": {
          "base_uri": "https://localhost:8080/"
        },
        "id": "dEQHf-4L05Yh",
        "outputId": "70dfe895-463e-408d-8346-bec7cfd48d64"
      },
      "execution_count": null,
      "outputs": [
        {
          "output_type": "stream",
          "name": "stdout",
          "text": [
            "Index is brand and Value is  Ford\n",
            "Index is model and Value is  Mustang\n",
            "Index is year and Value is  1964\n"
          ]
        }
      ]
    },
    {
      "cell_type": "code",
      "source": [
        "#enumrate fun helps to return index and value associated to it\n",
        "myList = [10,20,30,40,50]\n",
        "for index,value in enumerate(myList):\n",
        "  print(index, value)"
      ],
      "metadata": {
        "colab": {
          "base_uri": "https://localhost:8080/"
        },
        "id": "p0Ml7vSY1OVo",
        "outputId": "85b30586-1443-4f36-bd27-3f928f4048c7"
      },
      "execution_count": null,
      "outputs": [
        {
          "output_type": "stream",
          "name": "stdout",
          "text": [
            "0 10\n",
            "1 20\n",
            "2 30\n",
            "3 40\n",
            "4 50\n"
          ]
        }
      ]
    },
    {
      "cell_type": "code",
      "source": [
        "actors = [\"salman\",\"ranverr\",\"shahid\"]\n",
        "actress = [\"katrina\",\"deepika\", \"kareena\"]\n",
        "\n",
        "for actor,actress in zip(actors,actress):\n",
        "  print(\"The opposite actress of \",actor, \"is\", actress)\n"
      ],
      "metadata": {
        "colab": {
          "base_uri": "https://localhost:8080/"
        },
        "id": "C2ygeVjA1giU",
        "outputId": "a42b8e52-e8cf-4ac5-a46a-7ddc1285ccdf"
      },
      "execution_count": null,
      "outputs": [
        {
          "output_type": "stream",
          "name": "stdout",
          "text": [
            "The opposite actress of  salman is katrina\n",
            "The opposite actress of  ranverr is deepika\n",
            "The opposite actress of  shahid is kareena\n"
          ]
        }
      ]
    },
    {
      "cell_type": "code",
      "source": [
        "#printing in reverse order\n",
        "for actors in reversed(actors):\n",
        "  print(actors)"
      ],
      "metadata": {
        "colab": {
          "base_uri": "https://localhost:8080/"
        },
        "id": "PfWpuxYr16d9",
        "outputId": "b3569708-f7fc-4b2f-a55d-55611f4088bc"
      },
      "execution_count": null,
      "outputs": [
        {
          "output_type": "stream",
          "name": "stdout",
          "text": [
            "shahid\n",
            "ranverr\n",
            "salman\n"
          ]
        }
      ]
    },
    {
      "cell_type": "markdown",
      "source": [
        "Jupyter"
      ],
      "metadata": {
        "id": "AUYwV2_nXXbo"
      }
    },
    {
      "cell_type": "code",
      "source": [
        "#comparing sequence\n"
      ],
      "metadata": {
        "id": "MxtfxlU52MXs"
      },
      "execution_count": null,
      "outputs": []
    },
    {
      "cell_type": "code",
      "source": [
        "import notebooks_fibonacci"
      ],
      "metadata": {
        "id": "L1GtuYCw-aqJ"
      },
      "execution_count": 4,
      "outputs": []
    },
    {
      "cell_type": "code",
      "source": [
        "import fibonacci"
      ],
      "metadata": {
        "id": "xPmb3wi0M5Fd"
      },
      "execution_count": 7,
      "outputs": []
    },
    {
      "cell_type": "code",
      "source": [
        "import demo"
      ],
      "metadata": {
        "colab": {
          "base_uri": "https://localhost:8080/"
        },
        "id": "vX6ntgShTbeC",
        "outputId": "9def35ab-851d-4e2d-8419-037a8e0e65ea"
      },
      "execution_count": 13,
      "outputs": [
        {
          "output_type": "stream",
          "name": "stdout",
          "text": [
            "0, 1, 1, 2, 3, 5, 8, \n"
          ]
        }
      ]
    },
    {
      "cell_type": "code",
      "source": [
        "import add"
      ],
      "metadata": {
        "id": "R1qfsMbtWgd3"
      },
      "execution_count": null,
      "outputs": []
    },
    {
      "cell_type": "code",
      "source": [
        "print(2+7)"
      ],
      "metadata": {
        "colab": {
          "base_uri": "https://localhost:8080/"
        },
        "id": "LzSpzvXTWjHG",
        "outputId": "7c1d455d-ad4b-495f-d82c-895e580f5bf5"
      },
      "execution_count": 14,
      "outputs": [
        {
          "output_type": "stream",
          "name": "stdout",
          "text": [
            "9\n"
          ]
        }
      ]
    },
    {
      "cell_type": "code",
      "source": [
        "dir(demo)"
      ],
      "metadata": {
        "colab": {
          "base_uri": "https://localhost:8080/"
        },
        "id": "oR0hTVqfW1tE",
        "outputId": "9c30b2c2-4e9e-48c9-c55f-a5ab14f44e22"
      },
      "execution_count": 15,
      "outputs": [
        {
          "output_type": "execute_result",
          "data": {
            "text/plain": [
              "['__builtins__',\n",
              " '__cached__',\n",
              " '__doc__',\n",
              " '__file__',\n",
              " '__loader__',\n",
              " '__name__',\n",
              " '__package__',\n",
              " '__spec__',\n",
              " 'fib']"
            ]
          },
          "metadata": {},
          "execution_count": 15
        }
      ]
    },
    {
      "cell_type": "markdown",
      "source": [
        "Format output"
      ],
      "metadata": {
        "id": "OxbLGyDVXdBZ"
      }
    },
    {
      "cell_type": "code",
      "source": [
        "name = \"Bhagyashri\"\n",
        "surname = \"Ahirwar\"\n",
        "print_statement = f\"My name is {name} and surname is {surname}\"\n",
        "print(print_statement)"
      ],
      "metadata": {
        "colab": {
          "base_uri": "https://localhost:8080/"
        },
        "id": "1eQdHw1yXT3l",
        "outputId": "4debe94f-06b3-4072-aa14-69efdb576a69"
      },
      "execution_count": 16,
      "outputs": [
        {
          "output_type": "stream",
          "name": "stdout",
          "text": [
            "My name is Bhagyashri and surname is Ahirwar\n"
          ]
        }
      ]
    },
    {
      "cell_type": "code",
      "source": [
        "#method 2\n",
        "total = 1000;\n",
        "name = \"Ross\"\n",
        "\"Subtotal of {} is {: }\".format(name, total)"
      ],
      "metadata": {
        "colab": {
          "base_uri": "https://localhost:8080/",
          "height": 35
        },
        "id": "wbSni-d9YHUx",
        "outputId": "aa7b0ffe-7684-4e2a-d4e5-0251ae874b84"
      },
      "execution_count": 17,
      "outputs": [
        {
          "output_type": "execute_result",
          "data": {
            "text/plain": [
              "'Subtotal of Ross is  1000'"
            ],
            "application/vnd.google.colaboratory.intrinsic+json": {
              "type": "string"
            }
          },
          "metadata": {},
          "execution_count": 17
        }
      ]
    },
    {
      "cell_type": "markdown",
      "source": [
        "Reading and Writing files "
      ],
      "metadata": {
        "id": "FcMcN5OgZUll"
      }
    },
    {
      "cell_type": "code",
      "source": [
        "with open(\"me.txt\") as f:\n",
        "  myfile = f.read()\n",
        "\n",
        "print(myfile)"
      ],
      "metadata": {
        "colab": {
          "base_uri": "https://localhost:8080/"
        },
        "id": "r4QsK9-HY_k0",
        "outputId": "80dfb6db-7865-4e62-83e7-5c49046d563d"
      },
      "execution_count": 18,
      "outputs": [
        {
          "output_type": "stream",
          "name": "stdout",
          "text": [
            "Hi,I am Bhagyashri\n"
          ]
        }
      ]
    },
    {
      "cell_type": "code",
      "source": [
        "#with free up resource after it reads the file"
      ],
      "metadata": {
        "id": "daELF0kdaZs8"
      },
      "execution_count": null,
      "outputs": []
    },
    {
      "cell_type": "code",
      "source": [
        "with open(\"me.txt\", \"w\") as f:\n",
        "  f.write(\"Hello user\")"
      ],
      "metadata": {
        "id": "O38BnxgZaePC"
      },
      "execution_count": 20,
      "outputs": []
    },
    {
      "cell_type": "code",
      "source": [
        "#f.tell-gives file object current position in the file\n"
      ],
      "metadata": {
        "id": "kLVtzqFAa3pS"
      },
      "execution_count": null,
      "outputs": []
    },
    {
      "cell_type": "code",
      "source": [
        "#writing json data\n",
        "import json\n",
        "data = {\"Name\": \"Bhagyashri\", \"Age\": 20}\n",
        "json.dumps(data)"
      ],
      "metadata": {
        "colab": {
          "base_uri": "https://localhost:8080/",
          "height": 35
        },
        "id": "tphdypgkbFlL",
        "outputId": "3a3518cd-6986-4811-9c71-4df28f03e65b"
      },
      "execution_count": 22,
      "outputs": [
        {
          "output_type": "execute_result",
          "data": {
            "text/plain": [
              "'{\"Name\": \"Bhagyashri\", \"Age\": 20}'"
            ],
            "application/vnd.google.colaboratory.intrinsic+json": {
              "type": "string"
            }
          },
          "metadata": {},
          "execution_count": 22
        }
      ]
    },
    {
      "cell_type": "markdown",
      "source": [
        "Exception handling"
      ],
      "metadata": {
        "id": "AkklIRfob9ut"
      }
    },
    {
      "cell_type": "code",
      "source": [
        "try:\n",
        "  name = [\"bhagyashri\", \"ahirwar\"]\n",
        "  dividedbyzero =10/0\n",
        "  for name in names:\n",
        "    print(name)\n",
        "except NameError as e:\n",
        "  print(\"Please check name of the variable used\")\n",
        "except ZeroDivisionError as e:\n",
        "  print(\"You divided the number by 0, not accepted\")"
      ],
      "metadata": {
        "colab": {
          "base_uri": "https://localhost:8080/"
        },
        "id": "N-pu4FOYbto6",
        "outputId": "6e3c7fe8-0f23-4bf2-8004-0df57338bfb3"
      },
      "execution_count": 23,
      "outputs": [
        {
          "output_type": "stream",
          "name": "stdout",
          "text": [
            "You divided the number by 0, not accepted\n"
          ]
        }
      ]
    }
  ]
}